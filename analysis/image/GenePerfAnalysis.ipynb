{
 "cells": [
  {
   "cell_type": "code",
   "execution_count": 1,
   "metadata": {},
   "outputs": [],
   "source": [
    "import numpy as np\n",
    "import pandas as pd\n",
    "import matplotlib.pyplot as plt\n",
    "import json\n",
    "\n",
    "DATA_FILE = '/home/mitchell/cgp/CGPExperiments/build/imageGeneData.csv'"
   ]
  },
  {
   "cell_type": "code",
   "execution_count": 2,
   "metadata": {},
   "outputs": [
    {
     "name": "stdout",
     "output_type": "stream",
     "text": [
      "(40000, 4)\n"
     ]
    },
    {
     "data": {
      "text/html": [
       "<div>\n",
       "<style scoped>\n",
       "    .dataframe tbody tr th:only-of-type {\n",
       "        vertical-align: middle;\n",
       "    }\n",
       "\n",
       "    .dataframe tbody tr th {\n",
       "        vertical-align: top;\n",
       "    }\n",
       "\n",
       "    .dataframe thead th {\n",
       "        text-align: right;\n",
       "    }\n",
       "</style>\n",
       "<table border=\"1\" class=\"dataframe\">\n",
       "  <thead>\n",
       "    <tr style=\"text-align: right;\">\n",
       "      <th></th>\n",
       "      <th>geneName</th>\n",
       "      <th>iterationNum</th>\n",
       "      <th>runtime</th>\n",
       "      <th>params</th>\n",
       "    </tr>\n",
       "  </thead>\n",
       "  <tbody>\n",
       "    <tr>\n",
       "      <th>0</th>\n",
       "      <td>threshold</td>\n",
       "      <td>0</td>\n",
       "      <td>271</td>\n",
       "      <td>{\"geneName\":\"threshold\",\"geneTypeId\":\"37\",\"inp...</td>\n",
       "    </tr>\n",
       "    <tr>\n",
       "      <th>1</th>\n",
       "      <td>threshold</td>\n",
       "      <td>1</td>\n",
       "      <td>354</td>\n",
       "      <td>{\"geneName\":\"threshold\",\"geneTypeId\":\"37\",\"inp...</td>\n",
       "    </tr>\n",
       "    <tr>\n",
       "      <th>2</th>\n",
       "      <td>threshold</td>\n",
       "      <td>2</td>\n",
       "      <td>316</td>\n",
       "      <td>{\"geneName\":\"threshold\",\"geneTypeId\":\"37\",\"inp...</td>\n",
       "    </tr>\n",
       "    <tr>\n",
       "      <th>3</th>\n",
       "      <td>threshold</td>\n",
       "      <td>3</td>\n",
       "      <td>287</td>\n",
       "      <td>{\"geneName\":\"threshold\",\"geneTypeId\":\"37\",\"inp...</td>\n",
       "    </tr>\n",
       "    <tr>\n",
       "      <th>4</th>\n",
       "      <td>threshold</td>\n",
       "      <td>4</td>\n",
       "      <td>285</td>\n",
       "      <td>{\"geneName\":\"threshold\",\"geneTypeId\":\"37\",\"inp...</td>\n",
       "    </tr>\n",
       "  </tbody>\n",
       "</table>\n",
       "</div>"
      ],
      "text/plain": [
       "    geneName  iterationNum  runtime  \\\n",
       "0  threshold             0      271   \n",
       "1  threshold             1      354   \n",
       "2  threshold             2      316   \n",
       "3  threshold             3      287   \n",
       "4  threshold             4      285   \n",
       "\n",
       "                                              params  \n",
       "0  {\"geneName\":\"threshold\",\"geneTypeId\":\"37\",\"inp...  \n",
       "1  {\"geneName\":\"threshold\",\"geneTypeId\":\"37\",\"inp...  \n",
       "2  {\"geneName\":\"threshold\",\"geneTypeId\":\"37\",\"inp...  \n",
       "3  {\"geneName\":\"threshold\",\"geneTypeId\":\"37\",\"inp...  \n",
       "4  {\"geneName\":\"threshold\",\"geneTypeId\":\"37\",\"inp...  "
      ]
     },
     "execution_count": 2,
     "metadata": {},
     "output_type": "execute_result"
    }
   ],
   "source": [
    "df = pd.read_csv(DATA_FILE, sep='|')\n",
    "print(df.shape)\n",
    "df.head()"
   ]
  },
  {
   "cell_type": "code",
   "execution_count": 3,
   "metadata": {
    "scrolled": false
   },
   "outputs": [
    {
     "data": {
      "image/png": "[encoded data removed]",
      "text/plain": [
       "<Figure size 720x720 with 1 Axes>"
      ]
     },
     "metadata": {
      "needs_background": "light"
     },
     "output_type": "display_data"
    }
   ],
   "source": [
    "def compute_metric(series, metric_name):\n",
    "    metric_name = metric_name.lower()\n",
    "    if (metric_name == 'max'):\n",
    "        return np.max(series)\n",
    "    elif (metric_name == 'min'):\n",
    "        return np.min(series)\n",
    "    elif ((metric_name == 'mean') or (metric_name == 'avg')):\n",
    "        return np.mean(series)\n",
    "    elif (metric_name == 'p95'):\n",
    "        return np.percentile(series, 95)\n",
    "    elif (metric_name == 'p99'):\n",
    "        return np.percentile(series, 99)\n",
    "    elif (metric_name == 'median'):\n",
    "        return np.median(series)\n",
    "    \n",
    "    raise ValueError('Unknown metric: {0}'.format(metric_name))\n",
    "    \n",
    "def plot_perf_report(df, metric):\n",
    "    genes = list(df['geneName'].unique())\n",
    "    \n",
    "    metric_values = {}\n",
    "    max_metric_value = -1\n",
    "    for gene in genes:\n",
    "        filtered = df[df['geneName'] == gene]\n",
    "        metric_value = compute_metric(filtered['runtime'], metric)\n",
    "        max_metric_value = max(max_metric_value, metric_value)\n",
    "        metric_values[gene] = metric_value\n",
    "    \n",
    "    step = max_metric_value / 100\n",
    "    b = np.arange(0, max_metric_value, step)\n",
    "    m = [metric_values[k] for k in metric_values]\n",
    "    hist, bb = np.histogram(m, bins=b)\n",
    "    hist = list(hist) + [0]\n",
    "    \n",
    "    fig = plt.figure(figsize=(10,10))\n",
    "    plt.bar(bb, list(hist), width=max_metric_value / 100)\n",
    "    plt.xlabel('Runtime bin (us)')\n",
    "    plt.ylabel('Num genes')\n",
    "    \n",
    "    plt.title('Histogram of gene performance for metric {0}'.format(metric))\n",
    "    \n",
    "    plt.show()\n",
    "    \n",
    "plot_perf_report(df, 'median')"
   ]
  },
  {
   "cell_type": "code",
   "execution_count": 4,
   "metadata": {},
   "outputs": [
    {
     "name": "stdout",
     "output_type": "stream",
     "text": [
      "Genes with median runtime >= 6000:\n",
      "\tsmoothMedian: 64728.5 us\n",
      "\tsmoothBilateral: 64506.0 us\n",
      "\tlocalNormalize: 14172.5 us\n",
      "\tsobelX: 12567.5 us\n",
      "\tsobel: 11842.0 us\n",
      "\tsobelY: 10278.5 us\n",
      "\texp: 10143.0 us\n"
     ]
    }
   ],
   "source": [
    "def print_long_times(df, metric, thresh):\n",
    "    genes = list(df['geneName'].unique())\n",
    "    \n",
    "    metric_values = {}\n",
    "    for gene in genes:\n",
    "        filtered = df[df['geneName'] == gene]\n",
    "        metric_value = compute_metric(filtered['runtime'], metric)\n",
    "        if (metric_value >= thresh):\n",
    "            metric_values[gene] = metric_value\n",
    "            \n",
    "    metric_values = [(k,metric_values[k]) for k in metric_values]\n",
    "    metric_values.sort(reverse=True, key=lambda x: x[1])\n",
    "    \n",
    "    print('Genes with {0} runtime >= {1}:'.format(metric, thresh))\n",
    "    for metric_value in metric_values:\n",
    "        print('\\t{0}: {1} us'.format(metric_value[0], metric_value[1]))\n",
    "        \n",
    "print_long_times(df, 'median', 6000)"
   ]
  },
  {
   "cell_type": "code",
   "execution_count": 5,
   "metadata": {},
   "outputs": [
    {
     "name": "stdout",
     "output_type": "stream",
     "text": [
      "Runtime median sliced by kernelSize:\n",
      "\t3.0: 823.0\n",
      "\t5.0: 5246.5\n",
      "\t7.0: 56734.0\n",
      "\t9.0: 64727.0\n",
      "\t11.0: 74116.5\n",
      "\t13.0: 83995.5\n",
      "\t15.0: 92649.5\n",
      "\n",
      "Runtime median sliced by d:\n",
      "\t3.0: 18729.0\n",
      "\t4.0: 48288.0\n",
      "\t5.0: 48246.5\n",
      "\t6.0: 43934.0\n",
      "\t7.0: 43886.0\n",
      "\t9.0: 73273.0\n",
      "\t10.0: 118757.5\n",
      "\t13.0: 163887.5\n",
      "\t14.0: 217610.0\n",
      "\t16.0: 287914.0\n",
      "\n",
      "Runtime median sliced by sigma:\n",
      "\t0.786787: 64506.0\n",
      "\n"
     ]
    }
   ],
   "source": [
    "def print_gene_runtimes_by_parameters(df, gene, gene_parameter, metric):\n",
    "    filtered = df[df['geneName'] == gene].copy()\n",
    "    filtered['value_of_interest'] = filtered.apply( \\\n",
    "        lambda r: float(json.loads(r['params'])[gene_parameter]), axis=1)\n",
    "    \n",
    "    unique_values = list(filtered['value_of_interest'].unique())\n",
    "    unique_values.sort()\n",
    "    print('Runtime {0} sliced by {1}:'.format(metric, gene_parameter))\n",
    "    for unique_value in unique_values:\n",
    "        param_data_points = filtered[filtered['value_of_interest'] == unique_value]\n",
    "        metric_value = compute_metric(param_data_points['runtime'], metric)\n",
    "        print('\\t{0}: {1}'.format(unique_value, metric_value))\n",
    "    \n",
    "    print()\n",
    "    \n",
    "print_gene_runtimes_by_parameters(df, 'smoothMedian', 'kernelSize', 'median')\n",
    "print_gene_runtimes_by_parameters(df, 'smoothBilateral', 'd', 'median')\n",
    "print_gene_runtimes_by_parameters(df, 'smoothBilateral', 'sigma', 'median')"
   ]
  },
  {
   "cell_type": "code",
   "execution_count": 6,
   "metadata": {},
   "outputs": [],
   "source": [
    "def generate_gene_summary(df, metric, output_filename):\n",
    "    with open(output_filename, 'w') as f:\n",
    "        f.write('gene,runtime\\n')\n",
    "        genes = list(df['geneName'].unique())\n",
    "        genes.sort()\n",
    "        \n",
    "        for gene in genes:\n",
    "            filtered = df[df['geneName'] == gene]\n",
    "            metric_value = compute_metric(filtered['runtime'], metric)\n",
    "            f.write('{0},{1}\\n'.format(gene, metric_value))\n",
    "            \n",
    "generate_gene_summary(df, 'median', 'summary.csv')"
   ]
  }
 ],
 "metadata": {
  "kernelspec": {
   "display_name": "Python 3",
   "language": "python",
   "name": "python3"
  },
  "language_info": {
   "codemirror_mode": {
    "name": "ipython",
    "version": 3
   },
   "file_extension": ".py",
   "mimetype": "text/x-python",
   "name": "python",
   "nbconvert_exporter": "python",
   "pygments_lexer": "ipython3",
   "version": "3.6.9"
  }
 },
 "nbformat": 4,
 "nbformat_minor": 4
}
